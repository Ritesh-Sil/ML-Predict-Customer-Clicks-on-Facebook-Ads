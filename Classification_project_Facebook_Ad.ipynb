{
 "cells": [
  {
   "cell_type": "code",
   "execution_count": 55,
   "id": "1820e777",
   "metadata": {},
   "outputs": [],
   "source": [
    "import numpy as np\n",
    "import pandas as pd\n",
    "import matplotlib.pyplot as plt\n",
    "import seaborn as sns\n",
    "%matplotlib inline"
   ]
  },
  {
   "cell_type": "code",
   "execution_count": 56,
   "id": "834d4f47",
   "metadata": {},
   "outputs": [],
   "source": [
    "df_raw = pd.read_csv('C:\\\\Users\\\\silri\\\\Applied_AI\\\\ML_Classification_Package\\\\3._Logisitic_Regression\\\\Facebook_Ads_2.csv',encoding='latin1')"
   ]
  },
  {
   "cell_type": "code",
   "execution_count": 57,
   "id": "ffe64e7f",
   "metadata": {},
   "outputs": [],
   "source": [
    "df = df_raw"
   ]
  },
  {
   "cell_type": "code",
   "execution_count": 58,
   "id": "a9c03530",
   "metadata": {
    "scrolled": true
   },
   "outputs": [
    {
     "name": "stdout",
     "output_type": "stream",
     "text": [
      "             Names                                             emails  \\\n",
      "0    Martina Avila  cubilia.Curae.Phasellus@quisaccumsanconvallis.edu   \n",
      "1    Harlan Barnes                                eu.dolor@diam.co.uk   \n",
      "2  Naomi Rodriquez  vulputate.mauris.sagittis@ametconsectetueradip...   \n",
      "3  Jade Cunningham                            malesuada@dignissim.com   \n",
      "4     Cedric Leach     felis.ullamcorper.viverra@egetmollislectus.net   \n",
      "\n",
      "        Country  Time Spent on Site       Salary  Clicked  \n",
      "0      Bulgaria           25.649648  55330.06006        0  \n",
      "1        Belize           32.456107  79049.07674        1  \n",
      "2       Algeria           20.945978  41098.60826        0  \n",
      "3  Cook Islands           54.039325  37143.35536        1  \n",
      "4        Brazil           34.249729  37355.11276        0  \n"
     ]
    }
   ],
   "source": [
    "print(df.head())"
   ]
  },
  {
   "cell_type": "code",
   "execution_count": 59,
   "id": "d56b26c5",
   "metadata": {},
   "outputs": [
    {
     "name": "stdout",
     "output_type": "stream",
     "text": [
      "499\n"
     ]
    }
   ],
   "source": [
    "print(len(df))"
   ]
  },
  {
   "cell_type": "markdown",
   "id": "1315dcf9",
   "metadata": {},
   "source": [
    "**The available columns**"
   ]
  },
  {
   "cell_type": "code",
   "execution_count": 60,
   "id": "739300e1",
   "metadata": {
    "scrolled": true
   },
   "outputs": [
    {
     "data": {
      "text/plain": [
       "Index(['Names', 'emails', 'Country', 'Time Spent on Site', 'Salary',\n",
       "       'Clicked'],\n",
       "      dtype='object')"
      ]
     },
     "execution_count": 60,
     "metadata": {},
     "output_type": "execute_result"
    }
   ],
   "source": [
    "df.columns"
   ]
  },
  {
   "cell_type": "markdown",
   "id": "ef1d2251",
   "metadata": {},
   "source": [
    "**How to get the idex of a given column**"
   ]
  },
  {
   "cell_type": "code",
   "execution_count": 61,
   "id": "c7a2d516",
   "metadata": {},
   "outputs": [
    {
     "data": {
      "text/plain": [
       "0"
      ]
     },
     "execution_count": 61,
     "metadata": {},
     "output_type": "execute_result"
    }
   ],
   "source": [
    "df.columns.get_loc('Names')"
   ]
  },
  {
   "cell_type": "markdown",
   "id": "460a8072",
   "metadata": {},
   "source": [
    "- We will create two datasets X and y. X will contain all the features and y will contain only the target variable which is the class label here.\n",
    "\n",
    "- From the dataset above the name and email will not contribute much to the model.Therefore we can drop those two columns from the dataset and take rest of the columns into account."
   ]
  },
  {
   "cell_type": "code",
   "execution_count": 68,
   "id": "0877cdbc",
   "metadata": {},
   "outputs": [
    {
     "data": {
      "text/html": [
       "<div>\n",
       "<style scoped>\n",
       "    .dataframe tbody tr th:only-of-type {\n",
       "        vertical-align: middle;\n",
       "    }\n",
       "\n",
       "    .dataframe tbody tr th {\n",
       "        vertical-align: top;\n",
       "    }\n",
       "\n",
       "    .dataframe thead th {\n",
       "        text-align: right;\n",
       "    }\n",
       "</style>\n",
       "<table border=\"1\" class=\"dataframe\">\n",
       "  <thead>\n",
       "    <tr style=\"text-align: right;\">\n",
       "      <th></th>\n",
       "      <th>Time Spent on Site</th>\n",
       "      <th>Salary</th>\n",
       "    </tr>\n",
       "  </thead>\n",
       "  <tbody>\n",
       "    <tr>\n",
       "      <th>0</th>\n",
       "      <td>25.649648</td>\n",
       "      <td>55330.06006</td>\n",
       "    </tr>\n",
       "    <tr>\n",
       "      <th>1</th>\n",
       "      <td>32.456107</td>\n",
       "      <td>79049.07674</td>\n",
       "    </tr>\n",
       "    <tr>\n",
       "      <th>2</th>\n",
       "      <td>20.945978</td>\n",
       "      <td>41098.60826</td>\n",
       "    </tr>\n",
       "    <tr>\n",
       "      <th>3</th>\n",
       "      <td>54.039325</td>\n",
       "      <td>37143.35536</td>\n",
       "    </tr>\n",
       "    <tr>\n",
       "      <th>4</th>\n",
       "      <td>34.249729</td>\n",
       "      <td>37355.11276</td>\n",
       "    </tr>\n",
       "    <tr>\n",
       "      <th>...</th>\n",
       "      <td>...</td>\n",
       "      <td>...</td>\n",
       "    </tr>\n",
       "    <tr>\n",
       "      <th>494</th>\n",
       "      <td>19.222746</td>\n",
       "      <td>44969.13495</td>\n",
       "    </tr>\n",
       "    <tr>\n",
       "      <th>495</th>\n",
       "      <td>22.665662</td>\n",
       "      <td>41686.20425</td>\n",
       "    </tr>\n",
       "    <tr>\n",
       "      <th>496</th>\n",
       "      <td>35.320239</td>\n",
       "      <td>23989.80864</td>\n",
       "    </tr>\n",
       "    <tr>\n",
       "      <th>497</th>\n",
       "      <td>26.539170</td>\n",
       "      <td>31708.57054</td>\n",
       "    </tr>\n",
       "    <tr>\n",
       "      <th>498</th>\n",
       "      <td>32.386148</td>\n",
       "      <td>74331.35442</td>\n",
       "    </tr>\n",
       "  </tbody>\n",
       "</table>\n",
       "<p>499 rows × 2 columns</p>\n",
       "</div>"
      ],
      "text/plain": [
       "     Time Spent on Site       Salary\n",
       "0             25.649648  55330.06006\n",
       "1             32.456107  79049.07674\n",
       "2             20.945978  41098.60826\n",
       "3             54.039325  37143.35536\n",
       "4             34.249729  37355.11276\n",
       "..                  ...          ...\n",
       "494           19.222746  44969.13495\n",
       "495           22.665662  41686.20425\n",
       "496           35.320239  23989.80864\n",
       "497           26.539170  31708.57054\n",
       "498           32.386148  74331.35442\n",
       "\n",
       "[499 rows x 2 columns]"
      ]
     },
     "execution_count": 68,
     "metadata": {},
     "output_type": "execute_result"
    }
   ],
   "source": [
    "X = df.drop(columns=['Names', 'emails','Clicked','Country'])\n",
    "X"
   ]
  },
  {
   "cell_type": "code",
   "execution_count": 69,
   "id": "dd384366",
   "metadata": {},
   "outputs": [
    {
     "data": {
      "text/plain": [
       "0      0\n",
       "1      1\n",
       "2      0\n",
       "3      1\n",
       "4      0\n",
       "      ..\n",
       "494    0\n",
       "495    0\n",
       "496    0\n",
       "497    0\n",
       "498    1\n",
       "Name: Clicked, Length: 499, dtype: int64"
      ]
     },
     "execution_count": 69,
     "metadata": {},
     "output_type": "execute_result"
    }
   ],
   "source": [
    "y = df['Clicked']\n",
    "y"
   ]
  },
  {
   "cell_type": "code",
   "execution_count": 65,
   "id": "5adc7e20",
   "metadata": {},
   "outputs": [],
   "source": [
    "## Split the dataset into two halves --> Train and Test data-set"
   ]
  },
  {
   "cell_type": "code",
   "execution_count": 72,
   "id": "613368b0",
   "metadata": {},
   "outputs": [
    {
     "data": {
      "text/plain": [
       "Index(['Time Spent on Site', 'Salary'], dtype='object')"
      ]
     },
     "execution_count": 72,
     "metadata": {},
     "output_type": "execute_result"
    }
   ],
   "source": [
    "X.columns"
   ]
  },
  {
   "cell_type": "code",
   "execution_count": 74,
   "id": "90c40afd",
   "metadata": {
    "scrolled": true
   },
   "outputs": [
    {
     "data": {
      "text/html": [
       "<div>\n",
       "<style scoped>\n",
       "    .dataframe tbody tr th:only-of-type {\n",
       "        vertical-align: middle;\n",
       "    }\n",
       "\n",
       "    .dataframe tbody tr th {\n",
       "        vertical-align: top;\n",
       "    }\n",
       "\n",
       "    .dataframe thead th {\n",
       "        text-align: right;\n",
       "    }\n",
       "</style>\n",
       "<table border=\"1\" class=\"dataframe\">\n",
       "  <thead>\n",
       "    <tr style=\"text-align: right;\">\n",
       "      <th></th>\n",
       "      <th>Time Spent on Site</th>\n",
       "      <th>Salary</th>\n",
       "    </tr>\n",
       "  </thead>\n",
       "  <tbody>\n",
       "    <tr>\n",
       "      <th>51</th>\n",
       "      <td>26.244382</td>\n",
       "      <td>61347.16658</td>\n",
       "    </tr>\n",
       "    <tr>\n",
       "      <th>142</th>\n",
       "      <td>27.949998</td>\n",
       "      <td>56403.16861</td>\n",
       "    </tr>\n",
       "    <tr>\n",
       "      <th>182</th>\n",
       "      <td>29.823414</td>\n",
       "      <td>41808.07561</td>\n",
       "    </tr>\n",
       "    <tr>\n",
       "      <th>294</th>\n",
       "      <td>45.494705</td>\n",
       "      <td>67660.87998</td>\n",
       "    </tr>\n",
       "    <tr>\n",
       "      <th>87</th>\n",
       "      <td>41.359597</td>\n",
       "      <td>73157.84645</td>\n",
       "    </tr>\n",
       "    <tr>\n",
       "      <th>299</th>\n",
       "      <td>36.501082</td>\n",
       "      <td>48317.12764</td>\n",
       "    </tr>\n",
       "    <tr>\n",
       "      <th>221</th>\n",
       "      <td>34.188300</td>\n",
       "      <td>15638.64601</td>\n",
       "    </tr>\n",
       "    <tr>\n",
       "      <th>9</th>\n",
       "      <td>29.687362</td>\n",
       "      <td>41098.87881</td>\n",
       "    </tr>\n",
       "    <tr>\n",
       "      <th>377</th>\n",
       "      <td>18.766071</td>\n",
       "      <td>39413.96102</td>\n",
       "    </tr>\n",
       "    <tr>\n",
       "      <th>24</th>\n",
       "      <td>32.443111</td>\n",
       "      <td>51677.69904</td>\n",
       "    </tr>\n",
       "  </tbody>\n",
       "</table>\n",
       "</div>"
      ],
      "text/plain": [
       "     Time Spent on Site       Salary\n",
       "51            26.244382  61347.16658\n",
       "142           27.949998  56403.16861\n",
       "182           29.823414  41808.07561\n",
       "294           45.494705  67660.87998\n",
       "87            41.359597  73157.84645\n",
       "299           36.501082  48317.12764\n",
       "221           34.188300  15638.64601\n",
       "9             29.687362  41098.87881\n",
       "377           18.766071  39413.96102\n",
       "24            32.443111  51677.69904"
      ]
     },
     "execution_count": 74,
     "metadata": {},
     "output_type": "execute_result"
    }
   ],
   "source": [
    "X.sample(10)"
   ]
  },
  {
   "cell_type": "code",
   "execution_count": 15,
   "id": "c161d46f",
   "metadata": {},
   "outputs": [],
   "source": [
    "# df_test = pd.concat([pd.get_dummies(X['Country']),X['Country']], axis = 1)"
   ]
  },
  {
   "cell_type": "code",
   "execution_count": 76,
   "id": "60952ef6",
   "metadata": {},
   "outputs": [],
   "source": [
    "## Perform OHE on top of the country column\n",
    "## Perform MinMax on top of Time Spent\n",
    "## Perform Standard scalling on top of Salary\n",
    "## Perform Logistic regression on top of X train dataset"
   ]
  },
  {
   "cell_type": "code",
   "execution_count": 77,
   "id": "e8a3df4f",
   "metadata": {},
   "outputs": [],
   "source": [
    "from sklearn.compose import ColumnTransformer\n",
    "from sklearn.preprocessing import OneHotEncoder, MinMaxScaler, StandardScaler\n",
    "from sklearn.pipeline import Pipeline,make_pipeline\n",
    "from sklearn.preprocessing import FunctionTransformer\n",
    "\n",
    "##Use shift+M to merge the cells."
   ]
  },
  {
   "cell_type": "code",
   "execution_count": 78,
   "id": "061f208c",
   "metadata": {},
   "outputs": [
    {
     "data": {
      "text/html": [
       "<div>\n",
       "<style scoped>\n",
       "    .dataframe tbody tr th:only-of-type {\n",
       "        vertical-align: middle;\n",
       "    }\n",
       "\n",
       "    .dataframe tbody tr th {\n",
       "        vertical-align: top;\n",
       "    }\n",
       "\n",
       "    .dataframe thead th {\n",
       "        text-align: right;\n",
       "    }\n",
       "</style>\n",
       "<table border=\"1\" class=\"dataframe\">\n",
       "  <thead>\n",
       "    <tr style=\"text-align: right;\">\n",
       "      <th></th>\n",
       "      <th>Time Spent on Site</th>\n",
       "      <th>Salary</th>\n",
       "    </tr>\n",
       "  </thead>\n",
       "  <tbody>\n",
       "    <tr>\n",
       "      <th>0</th>\n",
       "      <td>25.649648</td>\n",
       "      <td>55330.06006</td>\n",
       "    </tr>\n",
       "    <tr>\n",
       "      <th>1</th>\n",
       "      <td>32.456107</td>\n",
       "      <td>79049.07674</td>\n",
       "    </tr>\n",
       "    <tr>\n",
       "      <th>2</th>\n",
       "      <td>20.945978</td>\n",
       "      <td>41098.60826</td>\n",
       "    </tr>\n",
       "    <tr>\n",
       "      <th>3</th>\n",
       "      <td>54.039325</td>\n",
       "      <td>37143.35536</td>\n",
       "    </tr>\n",
       "    <tr>\n",
       "      <th>4</th>\n",
       "      <td>34.249729</td>\n",
       "      <td>37355.11276</td>\n",
       "    </tr>\n",
       "    <tr>\n",
       "      <th>...</th>\n",
       "      <td>...</td>\n",
       "      <td>...</td>\n",
       "    </tr>\n",
       "    <tr>\n",
       "      <th>494</th>\n",
       "      <td>19.222746</td>\n",
       "      <td>44969.13495</td>\n",
       "    </tr>\n",
       "    <tr>\n",
       "      <th>495</th>\n",
       "      <td>22.665662</td>\n",
       "      <td>41686.20425</td>\n",
       "    </tr>\n",
       "    <tr>\n",
       "      <th>496</th>\n",
       "      <td>35.320239</td>\n",
       "      <td>23989.80864</td>\n",
       "    </tr>\n",
       "    <tr>\n",
       "      <th>497</th>\n",
       "      <td>26.539170</td>\n",
       "      <td>31708.57054</td>\n",
       "    </tr>\n",
       "    <tr>\n",
       "      <th>498</th>\n",
       "      <td>32.386148</td>\n",
       "      <td>74331.35442</td>\n",
       "    </tr>\n",
       "  </tbody>\n",
       "</table>\n",
       "<p>499 rows × 2 columns</p>\n",
       "</div>"
      ],
      "text/plain": [
       "     Time Spent on Site       Salary\n",
       "0             25.649648  55330.06006\n",
       "1             32.456107  79049.07674\n",
       "2             20.945978  41098.60826\n",
       "3             54.039325  37143.35536\n",
       "4             34.249729  37355.11276\n",
       "..                  ...          ...\n",
       "494           19.222746  44969.13495\n",
       "495           22.665662  41686.20425\n",
       "496           35.320239  23989.80864\n",
       "497           26.539170  31708.57054\n",
       "498           32.386148  74331.35442\n",
       "\n",
       "[499 rows x 2 columns]"
      ]
     },
     "execution_count": 78,
     "metadata": {},
     "output_type": "execute_result"
    }
   ],
   "source": [
    "X"
   ]
  },
  {
   "cell_type": "code",
   "execution_count": 92,
   "id": "8ee39e9d",
   "metadata": {
    "scrolled": false
   },
   "outputs": [
    {
     "data": {
      "text/html": [
       "<div>\n",
       "<style scoped>\n",
       "    .dataframe tbody tr th:only-of-type {\n",
       "        vertical-align: middle;\n",
       "    }\n",
       "\n",
       "    .dataframe tbody tr th {\n",
       "        vertical-align: top;\n",
       "    }\n",
       "\n",
       "    .dataframe thead th {\n",
       "        text-align: right;\n",
       "    }\n",
       "</style>\n",
       "<table border=\"1\" class=\"dataframe\">\n",
       "  <thead>\n",
       "    <tr style=\"text-align: right;\">\n",
       "      <th></th>\n",
       "      <th>Time Spent on Site</th>\n",
       "      <th>Salary</th>\n",
       "    </tr>\n",
       "  </thead>\n",
       "  <tbody>\n",
       "    <tr>\n",
       "      <th>119</th>\n",
       "      <td>33.300185</td>\n",
       "      <td>66605.38717</td>\n",
       "    </tr>\n",
       "    <tr>\n",
       "      <th>44</th>\n",
       "      <td>19.089303</td>\n",
       "      <td>39279.88929</td>\n",
       "    </tr>\n",
       "    <tr>\n",
       "      <th>488</th>\n",
       "      <td>24.331054</td>\n",
       "      <td>59873.51700</td>\n",
       "    </tr>\n",
       "    <tr>\n",
       "      <th>455</th>\n",
       "      <td>37.085105</td>\n",
       "      <td>91568.97221</td>\n",
       "    </tr>\n",
       "    <tr>\n",
       "      <th>244</th>\n",
       "      <td>22.959612</td>\n",
       "      <td>35048.06141</td>\n",
       "    </tr>\n",
       "  </tbody>\n",
       "</table>\n",
       "</div>"
      ],
      "text/plain": [
       "     Time Spent on Site       Salary\n",
       "119           33.300185  66605.38717\n",
       "44            19.089303  39279.88929\n",
       "488           24.331054  59873.51700\n",
       "455           37.085105  91568.97221\n",
       "244           22.959612  35048.06141"
      ]
     },
     "execution_count": 92,
     "metadata": {},
     "output_type": "execute_result"
    }
   ],
   "source": [
    "X_train.sample(5)"
   ]
  },
  {
   "cell_type": "markdown",
   "id": "6a5eb0c9",
   "metadata": {},
   "source": [
    "#### Use of Column Transformers"
   ]
  },
  {
   "cell_type": "code",
   "execution_count": 83,
   "id": "d6c5b3eb",
   "metadata": {},
   "outputs": [],
   "source": [
    "# oh = OneHotEncoder(drop='first',sparse=False)\n",
    "# oh.fit_transform(X_train).shape"
   ]
  },
  {
   "cell_type": "code",
   "execution_count": 93,
   "id": "7cd64fed",
   "metadata": {},
   "outputs": [],
   "source": [
    "trf1 = ColumnTransformer([(    \n",
    "    'MinMax_timeSpent',\n",
    "    MinMaxScaler(),\n",
    "    #[X.columns.get_loc('Time Spent on Site')]\n",
    "    [0]\n",
    "\n",
    "    )\n",
    "]\n",
    "    \n",
    "    , \n",
    "                         remainder = 'passthrough')"
   ]
  },
  {
   "cell_type": "code",
   "execution_count": 94,
   "id": "dafbc736",
   "metadata": {},
   "outputs": [],
   "source": [
    "trf2 = ColumnTransformer([(    \n",
    "                            'StandardScaling_Salary',\n",
    "                            StandardScaler(),\n",
    "                            #[df.columns.get_loc('Salary')]\n",
    "                            [1])\n",
    "                        ], remainder = 'passthrough')"
   ]
  },
  {
   "cell_type": "markdown",
   "id": "6fabd3dc",
   "metadata": {},
   "source": [
    "#### Use of Function transformers"
   ]
  },
  {
   "cell_type": "code",
   "execution_count": 107,
   "id": "a096d74a",
   "metadata": {},
   "outputs": [],
   "source": [
    "def ndarray_to_dataFrame(ndarray):\n",
    "    df = pd.DataFrame(ndarray, columns=['timespent', 'salary'])\n",
    "    return df"
   ]
  },
  {
   "cell_type": "code",
   "execution_count": 108,
   "id": "d32c76c6",
   "metadata": {},
   "outputs": [],
   "source": [
    "trf3 = FunctionTransformer(ndarray_to_dataFrame, validate=False)"
   ]
  },
  {
   "cell_type": "code",
   "execution_count": 97,
   "id": "015774f1",
   "metadata": {},
   "outputs": [],
   "source": [
    "# def oneHotEncoding(df):\n",
    "#     column ='country'\n",
    "#     df_column = pd.get_dummies(df[column])\n",
    "#     df.drop(column, axis = 1, inplace=True)\n",
    "#     df_final = pd.concat([df,df_column], axis = 1)\n",
    "#     return df_final "
   ]
  },
  {
   "cell_type": "code",
   "execution_count": null,
   "id": "3df80e10",
   "metadata": {},
   "outputs": [],
   "source": []
  },
  {
   "cell_type": "code",
   "execution_count": 98,
   "id": "5be8f511",
   "metadata": {},
   "outputs": [],
   "source": [
    "# trf4 = FunctionTransformer(oneHotEncoding, validate=False)"
   ]
  },
  {
   "cell_type": "markdown",
   "id": "8bbd7bf7",
   "metadata": {},
   "source": [
    "#### Use of Sklearn pipelines"
   ]
  },
  {
   "cell_type": "code",
   "execution_count": 109,
   "id": "8c8e32f6",
   "metadata": {},
   "outputs": [],
   "source": [
    "pipe = Pipeline(memory=None,\n",
    "               steps =[\n",
    "                   \n",
    "                   ('MinMax Scaling on Time Spent',trf1),\n",
    "                   ('Standard Scaling on Salary',trf2),\n",
    "                   ('Convert Back to Df', trf3)\n",
    "#                    ('One Hot Encoding of the countries', trf4)\n",
    "               ]\n",
    "               ,               \n",
    "               verbose=False)"
   ]
  },
  {
   "cell_type": "code",
   "execution_count": 111,
   "id": "10488a76",
   "metadata": {},
   "outputs": [],
   "source": [
    "X_final = pipe.fit_transform(X)"
   ]
  },
  {
   "cell_type": "code",
   "execution_count": 112,
   "id": "46c58875",
   "metadata": {},
   "outputs": [
    {
     "data": {
      "text/html": [
       "<div>\n",
       "<style scoped>\n",
       "    .dataframe tbody tr th:only-of-type {\n",
       "        vertical-align: middle;\n",
       "    }\n",
       "\n",
       "    .dataframe tbody tr th {\n",
       "        vertical-align: top;\n",
       "    }\n",
       "\n",
       "    .dataframe thead th {\n",
       "        text-align: right;\n",
       "    }\n",
       "</style>\n",
       "<table border=\"1\" class=\"dataframe\">\n",
       "  <thead>\n",
       "    <tr style=\"text-align: right;\">\n",
       "      <th></th>\n",
       "      <th>timespent</th>\n",
       "      <th>salary</th>\n",
       "    </tr>\n",
       "  </thead>\n",
       "  <tbody>\n",
       "    <tr>\n",
       "      <th>0</th>\n",
       "      <td>0.128258</td>\n",
       "      <td>0.375448</td>\n",
       "    </tr>\n",
       "    <tr>\n",
       "      <th>1</th>\n",
       "      <td>1.378592</td>\n",
       "      <td>0.499202</td>\n",
       "    </tr>\n",
       "    <tr>\n",
       "      <th>2</th>\n",
       "      <td>-0.621945</td>\n",
       "      <td>0.289927</td>\n",
       "    </tr>\n",
       "    <tr>\n",
       "      <th>3</th>\n",
       "      <td>-0.830444</td>\n",
       "      <td>0.891624</td>\n",
       "    </tr>\n",
       "    <tr>\n",
       "      <th>4</th>\n",
       "      <td>-0.819281</td>\n",
       "      <td>0.531813</td>\n",
       "    </tr>\n",
       "    <tr>\n",
       "      <th>...</th>\n",
       "      <td>...</td>\n",
       "      <td>...</td>\n",
       "    </tr>\n",
       "    <tr>\n",
       "      <th>494</th>\n",
       "      <td>-0.417912</td>\n",
       "      <td>0.258595</td>\n",
       "    </tr>\n",
       "    <tr>\n",
       "      <th>495</th>\n",
       "      <td>-0.590970</td>\n",
       "      <td>0.321194</td>\n",
       "    </tr>\n",
       "    <tr>\n",
       "      <th>496</th>\n",
       "      <td>-1.523825</td>\n",
       "      <td>0.551277</td>\n",
       "    </tr>\n",
       "    <tr>\n",
       "      <th>497</th>\n",
       "      <td>-1.116935</td>\n",
       "      <td>0.391621</td>\n",
       "    </tr>\n",
       "    <tr>\n",
       "      <th>498</th>\n",
       "      <td>1.129900</td>\n",
       "      <td>0.497930</td>\n",
       "    </tr>\n",
       "  </tbody>\n",
       "</table>\n",
       "<p>499 rows × 2 columns</p>\n",
       "</div>"
      ],
      "text/plain": [
       "     timespent    salary\n",
       "0     0.128258  0.375448\n",
       "1     1.378592  0.499202\n",
       "2    -0.621945  0.289927\n",
       "3    -0.830444  0.891624\n",
       "4    -0.819281  0.531813\n",
       "..         ...       ...\n",
       "494  -0.417912  0.258595\n",
       "495  -0.590970  0.321194\n",
       "496  -1.523825  0.551277\n",
       "497  -1.116935  0.391621\n",
       "498   1.129900  0.497930\n",
       "\n",
       "[499 rows x 2 columns]"
      ]
     },
     "execution_count": 112,
     "metadata": {},
     "output_type": "execute_result"
    }
   ],
   "source": [
    "X_final"
   ]
  },
  {
   "cell_type": "code",
   "execution_count": null,
   "id": "827cba4f",
   "metadata": {},
   "outputs": [],
   "source": []
  },
  {
   "cell_type": "code",
   "execution_count": 114,
   "id": "7582148d",
   "metadata": {},
   "outputs": [],
   "source": [
    "from sklearn.model_selection import train_test_split"
   ]
  },
  {
   "cell_type": "code",
   "execution_count": 115,
   "id": "3f489ebb",
   "metadata": {},
   "outputs": [],
   "source": [
    "X_train, X_test, y_train , y_test = train_test_split(X_final,y, test_size=0.3, random_state=42)"
   ]
  },
  {
   "cell_type": "code",
   "execution_count": 116,
   "id": "326a4b5a",
   "metadata": {},
   "outputs": [
    {
     "data": {
      "text/html": [
       "<div>\n",
       "<style scoped>\n",
       "    .dataframe tbody tr th:only-of-type {\n",
       "        vertical-align: middle;\n",
       "    }\n",
       "\n",
       "    .dataframe tbody tr th {\n",
       "        vertical-align: top;\n",
       "    }\n",
       "\n",
       "    .dataframe thead th {\n",
       "        text-align: right;\n",
       "    }\n",
       "</style>\n",
       "<table border=\"1\" class=\"dataframe\">\n",
       "  <thead>\n",
       "    <tr style=\"text-align: right;\">\n",
       "      <th></th>\n",
       "      <th>timespent</th>\n",
       "      <th>salary</th>\n",
       "    </tr>\n",
       "  </thead>\n",
       "  <tbody>\n",
       "    <tr>\n",
       "      <th>461</th>\n",
       "      <td>1.095958</td>\n",
       "      <td>0.595446</td>\n",
       "    </tr>\n",
       "    <tr>\n",
       "      <th>356</th>\n",
       "      <td>0.470422</td>\n",
       "      <td>0.629192</td>\n",
       "    </tr>\n",
       "    <tr>\n",
       "      <th>3</th>\n",
       "      <td>-0.830444</td>\n",
       "      <td>0.891624</td>\n",
       "    </tr>\n",
       "    <tr>\n",
       "      <th>399</th>\n",
       "      <td>-1.004385</td>\n",
       "      <td>0.626573</td>\n",
       "    </tr>\n",
       "    <tr>\n",
       "      <th>380</th>\n",
       "      <td>0.862705</td>\n",
       "      <td>0.684452</td>\n",
       "    </tr>\n",
       "    <tr>\n",
       "      <th>...</th>\n",
       "      <td>...</td>\n",
       "      <td>...</td>\n",
       "    </tr>\n",
       "    <tr>\n",
       "      <th>106</th>\n",
       "      <td>-2.787379</td>\n",
       "      <td>0.380187</td>\n",
       "    </tr>\n",
       "    <tr>\n",
       "      <th>270</th>\n",
       "      <td>-0.925439</td>\n",
       "      <td>0.473216</td>\n",
       "    </tr>\n",
       "    <tr>\n",
       "      <th>348</th>\n",
       "      <td>-0.115680</td>\n",
       "      <td>0.518598</td>\n",
       "    </tr>\n",
       "    <tr>\n",
       "      <th>435</th>\n",
       "      <td>-1.511106</td>\n",
       "      <td>0.148983</td>\n",
       "    </tr>\n",
       "    <tr>\n",
       "      <th>102</th>\n",
       "      <td>0.107846</td>\n",
       "      <td>0.456522</td>\n",
       "    </tr>\n",
       "  </tbody>\n",
       "</table>\n",
       "<p>349 rows × 2 columns</p>\n",
       "</div>"
      ],
      "text/plain": [
       "     timespent    salary\n",
       "461   1.095958  0.595446\n",
       "356   0.470422  0.629192\n",
       "3    -0.830444  0.891624\n",
       "399  -1.004385  0.626573\n",
       "380   0.862705  0.684452\n",
       "..         ...       ...\n",
       "106  -2.787379  0.380187\n",
       "270  -0.925439  0.473216\n",
       "348  -0.115680  0.518598\n",
       "435  -1.511106  0.148983\n",
       "102   0.107846  0.456522\n",
       "\n",
       "[349 rows x 2 columns]"
      ]
     },
     "execution_count": 116,
     "metadata": {},
     "output_type": "execute_result"
    }
   ],
   "source": [
    "X_train"
   ]
  },
  {
   "cell_type": "code",
   "execution_count": 117,
   "id": "8f1d9ce7",
   "metadata": {},
   "outputs": [
    {
     "data": {
      "text/plain": [
       "461    1\n",
       "356    1\n",
       "3      1\n",
       "399    0\n",
       "380    1\n",
       "      ..\n",
       "106    0\n",
       "270    0\n",
       "348    0\n",
       "435    0\n",
       "102    1\n",
       "Name: Clicked, Length: 349, dtype: int64"
      ]
     },
     "execution_count": 117,
     "metadata": {},
     "output_type": "execute_result"
    }
   ],
   "source": [
    "y_train"
   ]
  },
  {
   "cell_type": "code",
   "execution_count": 118,
   "id": "4a7ded23",
   "metadata": {},
   "outputs": [],
   "source": [
    "from sklearn.linear_model import LogisticRegression"
   ]
  },
  {
   "cell_type": "code",
   "execution_count": 119,
   "id": "9315de87",
   "metadata": {},
   "outputs": [],
   "source": [
    "clf = LogisticRegression(random_state=0)"
   ]
  },
  {
   "cell_type": "code",
   "execution_count": 121,
   "id": "faeb1f95",
   "metadata": {},
   "outputs": [
    {
     "data": {
      "text/plain": [
       "LogisticRegression(random_state=0)"
      ]
     },
     "execution_count": 121,
     "metadata": {},
     "output_type": "execute_result"
    }
   ],
   "source": [
    "clf.fit(X_train,y_train)"
   ]
  },
  {
   "cell_type": "code",
   "execution_count": 123,
   "id": "fc6f4421",
   "metadata": {},
   "outputs": [
    {
     "data": {
      "text/plain": [
       "460    0\n",
       "73     0\n",
       "231    1\n",
       "175    0\n",
       "237    0\n",
       "      ..\n",
       "193    0\n",
       "5      1\n",
       "116    1\n",
       "45     0\n",
       "16     1\n",
       "Name: Clicked, Length: 150, dtype: int64"
      ]
     },
     "execution_count": 123,
     "metadata": {},
     "output_type": "execute_result"
    }
   ],
   "source": [
    "y_test"
   ]
  },
  {
   "cell_type": "code",
   "execution_count": 125,
   "id": "6dfaf56f",
   "metadata": {},
   "outputs": [],
   "source": [
    "y_pred = clf.predict(X_test)"
   ]
  },
  {
   "cell_type": "code",
   "execution_count": 165,
   "id": "444f7b36",
   "metadata": {},
   "outputs": [
    {
     "data": {
      "text/html": [
       "<div>\n",
       "<style scoped>\n",
       "    .dataframe tbody tr th:only-of-type {\n",
       "        vertical-align: middle;\n",
       "    }\n",
       "\n",
       "    .dataframe tbody tr th {\n",
       "        vertical-align: top;\n",
       "    }\n",
       "\n",
       "    .dataframe thead th {\n",
       "        text-align: right;\n",
       "    }\n",
       "</style>\n",
       "<table border=\"1\" class=\"dataframe\">\n",
       "  <thead>\n",
       "    <tr style=\"text-align: right;\">\n",
       "      <th></th>\n",
       "      <th>timespent</th>\n",
       "      <th>salary</th>\n",
       "    </tr>\n",
       "  </thead>\n",
       "  <tbody>\n",
       "    <tr>\n",
       "      <th>460</th>\n",
       "      <td>-0.674238</td>\n",
       "      <td>0.408282</td>\n",
       "    </tr>\n",
       "    <tr>\n",
       "      <th>73</th>\n",
       "      <td>0.277679</td>\n",
       "      <td>0.358337</td>\n",
       "    </tr>\n",
       "    <tr>\n",
       "      <th>231</th>\n",
       "      <td>1.160458</td>\n",
       "      <td>0.382530</td>\n",
       "    </tr>\n",
       "    <tr>\n",
       "      <th>175</th>\n",
       "      <td>-0.415626</td>\n",
       "      <td>0.277994</td>\n",
       "    </tr>\n",
       "    <tr>\n",
       "      <th>237</th>\n",
       "      <td>-0.200007</td>\n",
       "      <td>0.571901</td>\n",
       "    </tr>\n",
       "    <tr>\n",
       "      <th>...</th>\n",
       "      <td>...</td>\n",
       "      <td>...</td>\n",
       "    </tr>\n",
       "    <tr>\n",
       "      <th>193</th>\n",
       "      <td>-0.833301</td>\n",
       "      <td>0.444716</td>\n",
       "    </tr>\n",
       "    <tr>\n",
       "      <th>5</th>\n",
       "      <td>1.462596</td>\n",
       "      <td>0.854726</td>\n",
       "    </tr>\n",
       "    <tr>\n",
       "      <th>116</th>\n",
       "      <td>0.756633</td>\n",
       "      <td>0.763689</td>\n",
       "    </tr>\n",
       "    <tr>\n",
       "      <th>45</th>\n",
       "      <td>-0.019926</td>\n",
       "      <td>0.252392</td>\n",
       "    </tr>\n",
       "    <tr>\n",
       "      <th>16</th>\n",
       "      <td>-0.181001</td>\n",
       "      <td>0.656290</td>\n",
       "    </tr>\n",
       "  </tbody>\n",
       "</table>\n",
       "<p>150 rows × 2 columns</p>\n",
       "</div>"
      ],
      "text/plain": [
       "     timespent    salary\n",
       "460  -0.674238  0.408282\n",
       "73    0.277679  0.358337\n",
       "231   1.160458  0.382530\n",
       "175  -0.415626  0.277994\n",
       "237  -0.200007  0.571901\n",
       "..         ...       ...\n",
       "193  -0.833301  0.444716\n",
       "5     1.462596  0.854726\n",
       "116   0.756633  0.763689\n",
       "45   -0.019926  0.252392\n",
       "16   -0.181001  0.656290\n",
       "\n",
       "[150 rows x 2 columns]"
      ]
     },
     "execution_count": 165,
     "metadata": {},
     "output_type": "execute_result"
    }
   ],
   "source": [
    "X_test"
   ]
  },
  {
   "cell_type": "code",
   "execution_count": null,
   "id": "20adf840",
   "metadata": {},
   "outputs": [],
   "source": []
  },
  {
   "cell_type": "code",
   "execution_count": 127,
   "id": "fec4eb18",
   "metadata": {},
   "outputs": [
    {
     "data": {
      "text/plain": [
       "(150,)"
      ]
     },
     "execution_count": 127,
     "metadata": {},
     "output_type": "execute_result"
    }
   ],
   "source": [
    "y_pred.shape"
   ]
  },
  {
   "cell_type": "code",
   "execution_count": 128,
   "id": "79363b99",
   "metadata": {},
   "outputs": [
    {
     "data": {
      "text/plain": [
       "(150,)"
      ]
     },
     "execution_count": 128,
     "metadata": {},
     "output_type": "execute_result"
    }
   ],
   "source": [
    "y_test.shape"
   ]
  },
  {
   "cell_type": "code",
   "execution_count": 129,
   "id": "09b3a1ec",
   "metadata": {},
   "outputs": [],
   "source": [
    "from sklearn.metrics import accuracy_score, roc_auc_score, confusion_matrix, recall_score"
   ]
  },
  {
   "cell_type": "code",
   "execution_count": 134,
   "id": "fe13e735",
   "metadata": {},
   "outputs": [
    {
     "data": {
      "text/plain": [
       "<AxesSubplot:>"
      ]
     },
     "execution_count": 134,
     "metadata": {},
     "output_type": "execute_result"
    },
    {
     "data": {
      "image/png": "[encoded data removed]",
      "text/plain": [
       "<Figure size 432x288 with 2 Axes>"
      ]
     },
     "metadata": {
      "needs_background": "light"
     },
     "output_type": "display_data"
    }
   ],
   "source": [
    "cm = confusion_matrix(y_test, y_pred)\n",
    "sns.heatmap(cm, annot=True)"
   ]
  },
  {
   "cell_type": "code",
   "execution_count": 131,
   "id": "fa01b8d0",
   "metadata": {},
   "outputs": [
    {
     "data": {
      "text/plain": [
       "0.8733333333333333"
      ]
     },
     "execution_count": 131,
     "metadata": {},
     "output_type": "execute_result"
    }
   ],
   "source": [
    "accuracy_score(y_test, y_pred)"
   ]
  },
  {
   "cell_type": "code",
   "execution_count": 132,
   "id": "2c3e10fe",
   "metadata": {},
   "outputs": [
    {
     "data": {
      "text/plain": [
       "0.8690817790530847"
      ]
     },
     "execution_count": 132,
     "metadata": {},
     "output_type": "execute_result"
    }
   ],
   "source": [
    "roc_auc_score(y_test, y_pred)"
   ]
  },
  {
   "cell_type": "code",
   "execution_count": 133,
   "id": "7c50e367",
   "metadata": {},
   "outputs": [
    {
     "data": {
      "text/plain": [
       "0.8235294117647058"
      ]
     },
     "execution_count": 133,
     "metadata": {},
     "output_type": "execute_result"
    }
   ],
   "source": [
    "recall_score(y_test, y_pred)"
   ]
  },
  {
   "cell_type": "code",
   "execution_count": 146,
   "id": "9d380b41",
   "metadata": {},
   "outputs": [
    {
     "data": {
      "text/plain": [
       "-3.787379255660188"
      ]
     },
     "execution_count": 146,
     "metadata": {},
     "output_type": "execute_result"
    }
   ],
   "source": [
    "np.array(X_train)[:,0].min() -1"
   ]
  },
  {
   "cell_type": "code",
   "execution_count": 154,
   "id": "4d2355d6",
   "metadata": {},
   "outputs": [
    {
     "data": {
      "text/plain": [
       "array([[ 1.09595804e+00,  5.95446353e-01],\n",
       "       [ 4.70422049e-01,  6.29192490e-01],\n",
       "       [-8.30443624e-01,  8.91624088e-01],\n",
       "       [-1.00438525e+00,  6.26573201e-01],\n",
       "       [ 8.62704790e-01,  6.84451628e-01],\n",
       "       [ 2.48300707e+00,  4.51694617e-01],\n",
       "       [ 1.96145795e+00,  6.67102979e-01],\n",
       "       [ 1.68256408e-01,  7.52784851e-01],\n",
       "       [ 1.06200284e+00,  8.73625926e-01],\n",
       "       [-1.25031357e+00,  6.19200648e-01],\n",
       "       [ 7.78269562e-01,  7.36267355e-01],\n",
       "       [-1.08608789e+00,  5.20852084e-01],\n",
       "       [ 9.28106741e-01,  6.33100715e-01],\n",
       "       [-1.21483411e+00,  3.75943993e-01],\n",
       "       [-2.13904662e+00,  5.51027659e-01],\n",
       "       [ 6.74427033e-01,  6.63663829e-01],\n",
       "       [ 1.33153806e+00,  5.37121364e-01],\n",
       "       [ 8.62135315e-01,  5.51990004e-01],\n",
       "       [-3.98894338e-02,  7.18185572e-01],\n",
       "       [ 5.59712614e-01,  6.45239599e-01],\n",
       "       [-2.89783841e-02,  5.20393583e-01],\n",
       "       [ 1.77425975e+00,  7.55009548e-01],\n",
       "       [ 1.59028643e+00,  5.55935969e-01],\n",
       "       [ 3.22631634e-01,  5.67445136e-01],\n",
       "       [ 1.80117605e-01,  3.70261981e-01],\n",
       "       [ 1.05983228e+00,  6.14480623e-01],\n",
       "       [-1.17735631e+00,  4.70031655e-01],\n",
       "       [ 1.64486245e+00,  4.59379389e-01],\n",
       "       [-2.39817489e-03,  3.17027625e-01],\n",
       "       [-7.39867378e-01,  2.97705995e-01],\n",
       "       [ 1.46799168e+00,  5.40379863e-01],\n",
       "       [-7.82259943e-01,  2.78772891e-01],\n",
       "       [ 2.09050843e-01,  4.88565160e-01],\n",
       "       [-6.89598308e-01,  5.44466245e-01],\n",
       "       [ 3.88173967e-01,  6.75200537e-01],\n",
       "       [ 1.46624390e+00,  5.08695546e-01],\n",
       "       [-3.24748638e-01,  5.93495970e-01],\n",
       "       [-9.14068144e-02,  4.72894444e-01],\n",
       "       [ 2.05846448e-01,  5.18565504e-01],\n",
       "       [ 1.55500352e+00,  4.23169793e-01],\n",
       "       [ 8.54526231e-01,  4.44881841e-01],\n",
       "       [ 5.37010699e-01,  7.17502017e-01],\n",
       "       [ 1.29773683e-01,  6.15589205e-01],\n",
       "       [ 1.44743530e-01,  5.94788181e-01],\n",
       "       [ 6.59010772e-01,  3.87242368e-01],\n",
       "       [ 9.35907145e-01,  6.86731310e-01],\n",
       "       [-1.11693508e+00,  3.91621277e-01],\n",
       "       [-8.57947754e-01,  4.28186129e-01],\n",
       "       [-2.23373358e-01,  4.12851600e-01],\n",
       "       [-2.35367919e-01,  3.16373562e-01],\n",
       "       [-6.68572372e-01,  6.67248550e-01],\n",
       "       [-2.95619009e-03,  6.04399326e-01],\n",
       "       [-2.41675560e+00,  3.17495238e-01],\n",
       "       [ 5.77561928e-01,  7.56979426e-01],\n",
       "       [-9.40895801e-01,  3.26538393e-01],\n",
       "       [ 7.22629886e-01,  5.14548825e-01],\n",
       "       [-8.06752732e-01,  4.34196807e-01],\n",
       "       [ 6.30805286e-02,  1.26023039e-01],\n",
       "       [ 3.12949006e-01,  5.19814648e-01],\n",
       "       [-2.74018308e-01,  3.47581616e-01],\n",
       "       [ 8.82447136e-01,  5.47226508e-01],\n",
       "       [ 4.63852044e-01,  5.38633255e-01],\n",
       "       [ 1.54909798e+00,  5.51358022e-01],\n",
       "       [-9.37298621e-01,  2.94876977e-01],\n",
       "       [ 1.14768065e+00,  5.29058401e-01],\n",
       "       [-2.05002079e+00,  4.44628686e-01],\n",
       "       [ 9.64674708e-02,  6.72544113e-01],\n",
       "       [ 6.81383988e-01,  5.54488932e-01],\n",
       "       [ 7.69345926e-01,  6.40338360e-01],\n",
       "       [-3.89771134e-01,  5.23647974e-01],\n",
       "       [-5.28241798e-01,  2.67792040e-01],\n",
       "       [ 2.30822516e-01,  4.22752136e-01],\n",
       "       [ 4.82253821e-01,  6.72914943e-01],\n",
       "       [ 1.49632055e+00,  5.78342004e-01],\n",
       "       [ 1.62675855e-01,  5.28369420e-01],\n",
       "       [ 9.98778697e-01,  8.17613319e-01],\n",
       "       [ 6.42418929e-01,  7.19029639e-01],\n",
       "       [ 4.75030899e-01,  6.88752175e-01],\n",
       "       [ 5.24684010e-01,  5.91434611e-01],\n",
       "       [ 5.76429012e-01,  6.93472689e-01],\n",
       "       [ 3.78344206e-01,  5.44768324e-01],\n",
       "       [ 1.22953955e+00,  5.83873893e-01],\n",
       "       [ 1.19309732e-01,  3.66230424e-01],\n",
       "       [-1.15846205e+00,  3.68177358e-01],\n",
       "       [-1.05304777e+00,  2.05406219e-01],\n",
       "       [-1.05868940e-01,  5.18557090e-01],\n",
       "       [-1.12033884e+00,  5.62413404e-01],\n",
       "       [ 6.48400206e-02,  5.14046764e-01],\n",
       "       [ 9.41421783e-02,  7.25240980e-01],\n",
       "       [-4.61959666e-02,  4.95870539e-01],\n",
       "       [-9.80297728e-02,  5.93183073e-01],\n",
       "       [-5.15023719e-01,  3.60512213e-01],\n",
       "       [ 3.67763347e-01,  3.51473717e-01],\n",
       "       [ 1.08951849e+00,  4.72142588e-01],\n",
       "       [ 8.56079168e-02,  6.67227772e-01],\n",
       "       [ 1.13587727e+00,  6.39025854e-01],\n",
       "       [ 1.07942714e+00,  7.43834089e-01],\n",
       "       [ 1.29034412e+00,  6.45874543e-01],\n",
       "       [ 1.17038786e+00,  5.78536139e-01],\n",
       "       [ 1.06273571e+00,  5.82089006e-01],\n",
       "       [ 5.39093731e-01,  6.65968977e-01],\n",
       "       [ 1.01983375e+00,  5.74479108e-01],\n",
       "       [-1.17847545e+00,  3.78162418e-01],\n",
       "       [-7.12438478e-01,  1.00160106e-01],\n",
       "       [ 1.18123819e+00,  8.23141078e-01],\n",
       "       [ 6.98873547e-01,  8.10113039e-01],\n",
       "       [ 1.47119015e+00,  6.65556439e-01],\n",
       "       [ 9.60049594e-01,  5.55522188e-01],\n",
       "       [ 5.24899798e-01,  7.09318285e-01],\n",
       "       [-1.46893142e+00,  3.20502445e-01],\n",
       "       [ 1.57436078e-01,  5.20973266e-01],\n",
       "       [ 1.18761807e+00,  7.21117044e-01],\n",
       "       [-4.53763505e-01,  3.57223889e-01],\n",
       "       [ 1.08605172e+00,  6.24535147e-01],\n",
       "       [ 5.34031939e-01,  4.80424927e-01],\n",
       "       [ 1.41180492e+00,  7.13643799e-01],\n",
       "       [ 1.42238958e-01,  4.33884391e-01],\n",
       "       [-8.62416406e-01,  3.57431727e-01],\n",
       "       [ 6.41012750e-01,  3.34618469e-01],\n",
       "       [-1.21711654e+00,  3.39162296e-01],\n",
       "       [-1.02432161e+00,  4.83258119e-01],\n",
       "       [-1.19639234e+00,  2.71257323e-01],\n",
       "       [ 2.78900567e-01,  5.25307594e-01],\n",
       "       [ 9.27029232e-02,  4.79273049e-01],\n",
       "       [-1.67739289e+00,  3.73668284e-01],\n",
       "       [-2.41424855e-01,  5.72746943e-01],\n",
       "       [ 2.18334976e+00,  5.72692764e-01],\n",
       "       [ 8.55755068e-01,  4.31910311e-01],\n",
       "       [ 1.53197856e+00,  6.26326787e-01],\n",
       "       [-1.16628841e+00,  4.95209817e-01],\n",
       "       [ 1.96345929e+00,  4.25017076e-01],\n",
       "       [-7.00131706e-01,  4.16515369e-01],\n",
       "       [-1.68057714e-01,  3.34589426e-01],\n",
       "       [-1.75134230e-02,  3.32668258e-01],\n",
       "       [-1.79861741e+00,  4.57687137e-01],\n",
       "       [-1.78517437e+00,  5.24360075e-01],\n",
       "       [ 3.71621874e-01,  6.96760726e-01],\n",
       "       [-1.23734947e+00,  4.83360267e-01],\n",
       "       [-1.02314121e+00,  4.61609719e-01],\n",
       "       [-1.18353500e+00,  4.50159589e-01],\n",
       "       [ 2.60639388e-01,  5.97146775e-01],\n",
       "       [ 7.52297316e-01,  2.96443100e-01],\n",
       "       [ 7.20450068e-01,  6.77333530e-01],\n",
       "       [ 7.06197711e-01,  6.34614898e-01],\n",
       "       [ 1.98663178e-01,  4.51758409e-01],\n",
       "       [-5.14590296e-01,  5.08186547e-01],\n",
       "       [ 1.11208820e-01,  7.88180555e-01],\n",
       "       [-1.12628909e+00,  4.99185019e-01],\n",
       "       [ 2.77556768e-01,  6.88823586e-01],\n",
       "       [ 1.19257227e+00,  4.80684080e-01],\n",
       "       [-6.35559613e-02,  3.96100853e-01],\n",
       "       [-1.63506165e-01,  4.00410289e-01],\n",
       "       [-2.51404610e+00,  3.74152983e-01],\n",
       "       [ 2.10597713e+00,  5.36500808e-01],\n",
       "       [-7.48136618e-01,  5.60476269e-01],\n",
       "       [ 4.60377823e-01,  5.18687523e-01],\n",
       "       [-5.38748631e-02,  5.86792933e-01],\n",
       "       [ 1.68278508e+00,  5.76247396e-01],\n",
       "       [-6.82921220e-01,  3.51859443e-01],\n",
       "       [-1.52382503e+00,  5.51277068e-01],\n",
       "       [ 7.76432681e-01,  6.16871728e-01],\n",
       "       [ 1.31739164e+00,  3.67407293e-01],\n",
       "       [-1.24880708e-01,  4.91361272e-01],\n",
       "       [-1.81034324e+00,  4.89808757e-01],\n",
       "       [ 8.73179066e-01,  8.18993712e-01],\n",
       "       [ 2.88253836e-01,  6.11249430e-01],\n",
       "       [ 2.28294560e+00,  7.43038216e-01],\n",
       "       [-5.56898156e-01,  3.30567071e-01],\n",
       "       [ 1.31802826e+00,  6.21344608e-01],\n",
       "       [-4.43579312e-01,  2.30036846e-01],\n",
       "       [ 1.84558386e+00,  5.79525674e-01],\n",
       "       [-7.17817507e-01,  2.56169149e-01],\n",
       "       [-1.01686333e-01,  3.91668050e-01],\n",
       "       [ 2.58112567e-01,  6.11855462e-01],\n",
       "       [-5.73584907e-01,  3.89815399e-01],\n",
       "       [ 6.77162007e-01,  4.65016472e-01],\n",
       "       [-5.52306370e-01,  4.90838225e-01],\n",
       "       [ 7.53495593e-01,  4.41863173e-01],\n",
       "       [-8.26128261e-01,  3.88003085e-01],\n",
       "       [-5.59481339e-02,  5.01947434e-01],\n",
       "       [-4.81440402e-01,  3.69339913e-01],\n",
       "       [-1.53998204e+00,  5.62864865e-01],\n",
       "       [-8.65690883e-01,  3.46246958e-01],\n",
       "       [ 1.79220984e+00,  7.16875511e-01],\n",
       "       [ 1.84825993e-01,  4.17272700e-01],\n",
       "       [-1.79172680e+00,  3.47144583e-01],\n",
       "       [ 2.21682152e+00,  6.33662370e-01],\n",
       "       [-1.96405161e+00,  5.30696355e-01],\n",
       "       [-1.06206594e-01,  2.54513615e-01],\n",
       "       [ 4.45445910e-01,  3.86261498e-01],\n",
       "       [-1.11700106e+00,  8.22321453e-01],\n",
       "       [-6.28570805e-01,  5.31811401e-01],\n",
       "       [-7.10749996e-01,  2.50292209e-01],\n",
       "       [ 1.09258439e-01,  4.37419386e-01],\n",
       "       [-1.21230079e+00,  4.35361272e-01],\n",
       "       [ 1.24373063e+00,  5.57324078e-01],\n",
       "       [ 1.24451155e+00,  3.93072760e-01],\n",
       "       [ 4.82897080e-01,  4.31080226e-01],\n",
       "       [ 1.60149293e+00,  6.73943482e-01],\n",
       "       [ 2.73955470e-01,  4.10538983e-01],\n",
       "       [-8.81682059e-01,  2.90782199e-01],\n",
       "       [-8.19280959e-01,  5.31813252e-01],\n",
       "       [-8.05747851e-01,  4.45336757e-01],\n",
       "       [-1.33815008e+00,  4.34941830e-01],\n",
       "       [-4.08280129e-01,  5.66918541e-01],\n",
       "       [ 2.50098261e-01,  5.54994471e-01],\n",
       "       [ 1.02742605e-01,  5.51150409e-01],\n",
       "       [-6.80342552e-01,  5.43739336e-01],\n",
       "       [ 6.01948690e-01,  4.66146146e-01],\n",
       "       [-1.35732813e+00,  1.43018754e-01],\n",
       "       [-1.12138977e+00,  6.42081785e-01],\n",
       "       [ 7.94191124e-01,  4.64908074e-01],\n",
       "       [ 5.57837715e-01,  6.72051559e-01],\n",
       "       [-2.56770275e-01,  4.07341991e-01],\n",
       "       [-1.05441840e+00,  2.71108612e-01],\n",
       "       [ 2.27779326e-01,  7.21385824e-01],\n",
       "       [-6.59638389e-01,  5.92124805e-01],\n",
       "       [ 4.39451848e-01,  5.64533723e-01],\n",
       "       [-7.11787278e-01,  4.39211892e-01],\n",
       "       [ 7.44605776e-01,  4.67797364e-01],\n",
       "       [ 1.47664601e+00,  6.24749578e-01],\n",
       "       [-1.81101702e+00,  3.71006023e-01],\n",
       "       [-1.13937600e+00,  7.20668332e-01],\n",
       "       [ 1.12979229e+00,  5.10056312e-01],\n",
       "       [ 8.15579497e-01,  6.45766289e-01],\n",
       "       [ 1.98190953e+00,  6.94303433e-01],\n",
       "       [ 2.11529721e+00,  7.73343129e-01],\n",
       "       [ 1.58130470e-01,  6.89244673e-01],\n",
       "       [-1.40648087e+00,  3.35082866e-01],\n",
       "       [-5.77507350e-01,  4.77591288e-01],\n",
       "       [-6.39528470e-01,  3.32314213e-01],\n",
       "       [-9.81324726e-01,  6.49058774e-01],\n",
       "       [ 1.34446404e+00,  6.89151693e-01],\n",
       "       [-9.69857225e-01,  3.25536963e-01],\n",
       "       [ 1.32538754e+00,  7.17259747e-01],\n",
       "       [-1.00450601e-01,  2.59870558e-01],\n",
       "       [ 6.21976462e-01,  5.94846943e-01],\n",
       "       [-6.74015836e-01,  4.34959877e-01],\n",
       "       [-2.15238064e+00,  4.63918055e-01],\n",
       "       [ 1.28450995e-01,  5.60625473e-01],\n",
       "       [-4.61818265e-02,  5.15437034e-01],\n",
       "       [-1.72320179e+00,  4.57199459e-01],\n",
       "       [-2.34587828e-01,  6.75520957e-01],\n",
       "       [ 3.50674064e-02,  8.34106870e-01],\n",
       "       [ 3.48103203e-02,  4.50032158e-01],\n",
       "       [-4.29119606e-01,  3.68257756e-01],\n",
       "       [-1.44345059e-01,  5.86880966e-01],\n",
       "       [ 6.50963986e-01,  7.12471153e-01],\n",
       "       [ 2.73688390e-01,  2.91910586e-01],\n",
       "       [-6.02685912e-01,  2.26838149e-01],\n",
       "       [ 4.21569136e-01,  6.07680067e-01],\n",
       "       [ 2.35892897e+00,  1.82697207e-01],\n",
       "       [-1.74139851e+00,  4.11993090e-01],\n",
       "       [ 6.46623388e-02,  6.96028844e-01],\n",
       "       [-8.27878447e-01,  3.70305608e-01],\n",
       "       [ 1.13647954e-01,  1.91947608e-01],\n",
       "       [-1.42137651e+00,  4.24943607e-01],\n",
       "       [ 3.29963489e-01,  7.11589482e-01],\n",
       "       [-1.37162998e+00,  2.83307038e-01],\n",
       "       [ 2.81874547e-01,  5.08172749e-01],\n",
       "       [-1.08879858e+00,  4.10978920e-01],\n",
       "       [ 6.05801956e-01,  5.22448027e-01],\n",
       "       [ 5.26287084e-01,  4.20892026e-01],\n",
       "       [-3.80108047e-01,  8.42584813e-01],\n",
       "       [ 1.27372563e+00,  4.54335961e-01],\n",
       "       [ 5.18115381e-02,  4.19687586e-01],\n",
       "       [ 1.16573516e+00,  5.02941301e-01],\n",
       "       [-8.40723148e-01,  3.81996361e-01],\n",
       "       [-2.57793682e+00,  4.12190537e-01],\n",
       "       [ 1.37859159e+00,  4.99201940e-01],\n",
       "       [-1.11683559e-01,  4.43660328e-01],\n",
       "       [-8.95045507e-01,  3.17081604e-01],\n",
       "       [-1.24101139e+00,  5.69031827e-01],\n",
       "       [-1.47132096e-01,  5.64673876e-01],\n",
       "       [-1.54686351e+00,  4.15831894e-01],\n",
       "       [ 5.69213044e-01,  8.36098222e-01],\n",
       "       [ 2.99119417e-02,  5.77558470e-01],\n",
       "       [ 3.89280819e-01,  6.41129062e-01],\n",
       "       [-1.02427718e+00,  4.58601444e-01],\n",
       "       [ 3.33780501e-01,  2.19944854e-01],\n",
       "       [-9.69866388e-01,  2.75787285e-01],\n",
       "       [-1.72046521e+00,  6.41562821e-01],\n",
       "       [-5.17888726e-01,  3.37394103e-01],\n",
       "       [-1.43669691e+00,  2.86852568e-01],\n",
       "       [ 8.97182126e-01,  7.58712883e-01],\n",
       "       [-1.68487057e+00,  3.53342553e-01],\n",
       "       [-7.98440963e-01,  2.74358011e-01],\n",
       "       [-2.23166322e-01,  7.55285604e-01],\n",
       "       [-1.32337060e+00,  3.56977490e-01],\n",
       "       [-1.63385576e-02,  4.05332361e-01],\n",
       "       [ 1.04577832e+00,  8.45704257e-01],\n",
       "       [-1.06169574e-01,  4.44798802e-01],\n",
       "       [-9.94071196e-01,  5.60780789e-01],\n",
       "       [-1.58447584e+00,  4.58450832e-02],\n",
       "       [ 5.72131754e-01,  5.84967555e-01],\n",
       "       [-3.88461766e-01,  2.59051193e-01],\n",
       "       [-5.90937478e-01,  1.49440115e-01],\n",
       "       [-2.57057820e-01,  6.76186897e-01],\n",
       "       [ 6.36975234e-01,  2.53271700e-01],\n",
       "       [-2.81813172e-01,  2.55512862e-01],\n",
       "       [ 1.24417210e+00,  1.00000000e+00],\n",
       "       [ 1.19646227e+00,  6.38716289e-01],\n",
       "       [ 4.42902367e-01,  6.14668342e-01],\n",
       "       [ 2.03857045e+00,  5.83365545e-01],\n",
       "       [-2.81183074e-01,  6.68523029e-01],\n",
       "       [ 8.84221540e-01,  3.58356706e-01],\n",
       "       [ 2.44274732e-02,  6.05859812e-01],\n",
       "       [-5.90970043e-01,  3.21193847e-01],\n",
       "       [ 1.91514534e+00,  7.63549190e-01],\n",
       "       [-7.65877249e-01,  5.03988591e-01],\n",
       "       [ 1.40360447e+00,  6.69229813e-01],\n",
       "       [ 1.08694925e+00,  6.19073789e-01],\n",
       "       [ 3.46881340e-01,  6.47755673e-01],\n",
       "       [-3.60212266e-01,  5.23942056e-01],\n",
       "       [-2.09385547e+00,  4.72449558e-01],\n",
       "       [ 3.86803184e-02,  3.74505376e-01],\n",
       "       [-2.40037655e-01,  6.11280993e-01],\n",
       "       [ 4.62387961e-01,  5.80356102e-01],\n",
       "       [ 1.06719582e+00,  7.97482753e-01],\n",
       "       [-1.01003137e+00,  2.41563510e-01],\n",
       "       [-9.84487785e-01,  5.02613228e-02],\n",
       "       [-1.95502860e+00,  1.06633756e-01],\n",
       "       [-2.34326440e-01,  2.89582586e-01],\n",
       "       [-7.86291560e-01,  3.28264883e-01],\n",
       "       [ 1.28325152e+00,  4.49487648e-01],\n",
       "       [ 1.31693631e+00,  7.39336398e-01],\n",
       "       [ 1.45734843e+00,  6.67291368e-01],\n",
       "       [ 1.29016696e+00,  7.06917235e-01],\n",
       "       [-5.03522602e-01,  3.36297785e-01],\n",
       "       [-6.16505695e-01,  6.04043752e-01],\n",
       "       [ 5.63669895e-02,  6.44702236e-01],\n",
       "       [ 4.25322958e-01,  6.50189647e-01],\n",
       "       [ 1.30280711e+00,  5.25586398e-01],\n",
       "       [ 6.82896020e-01,  4.10479608e-01],\n",
       "       [ 1.06803889e+00,  6.61083584e-01],\n",
       "       [ 1.24675686e+00,  5.69536553e-01],\n",
       "       [-1.11701595e-01,  7.04563183e-01],\n",
       "       [-1.13927733e+00,  4.94539072e-01],\n",
       "       [ 5.32813464e-01,  6.00092231e-01],\n",
       "       [ 6.73695384e-01,  4.40499202e-01],\n",
       "       [ 1.12989966e+00,  4.97929961e-01],\n",
       "       [ 4.62029789e-01,  2.20065013e-01],\n",
       "       [-1.50307162e+00,  4.81353282e-01],\n",
       "       [ 1.21381549e+00,  6.62865048e-01],\n",
       "       [-2.78737926e+00,  3.80186848e-01],\n",
       "       [-9.25439405e-01,  4.73216125e-01],\n",
       "       [-1.15680141e-01,  5.18598160e-01],\n",
       "       [-1.51110615e+00,  1.48982814e-01],\n",
       "       [ 1.07846156e-01,  4.56522410e-01]])"
      ]
     },
     "execution_count": 154,
     "metadata": {},
     "output_type": "execute_result"
    }
   ],
   "source": [
    "np.array(X_train)"
   ]
  },
  {
   "cell_type": "code",
   "execution_count": 155,
   "id": "33cb50a0",
   "metadata": {},
   "outputs": [
    {
     "data": {
      "text/html": [
       "<div>\n",
       "<style scoped>\n",
       "    .dataframe tbody tr th:only-of-type {\n",
       "        vertical-align: middle;\n",
       "    }\n",
       "\n",
       "    .dataframe tbody tr th {\n",
       "        vertical-align: top;\n",
       "    }\n",
       "\n",
       "    .dataframe thead th {\n",
       "        text-align: right;\n",
       "    }\n",
       "</style>\n",
       "<table border=\"1\" class=\"dataframe\">\n",
       "  <thead>\n",
       "    <tr style=\"text-align: right;\">\n",
       "      <th></th>\n",
       "      <th>timespent</th>\n",
       "      <th>salary</th>\n",
       "    </tr>\n",
       "  </thead>\n",
       "  <tbody>\n",
       "    <tr>\n",
       "      <th>461</th>\n",
       "      <td>1.095958</td>\n",
       "      <td>0.595446</td>\n",
       "    </tr>\n",
       "    <tr>\n",
       "      <th>356</th>\n",
       "      <td>0.470422</td>\n",
       "      <td>0.629192</td>\n",
       "    </tr>\n",
       "    <tr>\n",
       "      <th>3</th>\n",
       "      <td>-0.830444</td>\n",
       "      <td>0.891624</td>\n",
       "    </tr>\n",
       "    <tr>\n",
       "      <th>399</th>\n",
       "      <td>-1.004385</td>\n",
       "      <td>0.626573</td>\n",
       "    </tr>\n",
       "    <tr>\n",
       "      <th>380</th>\n",
       "      <td>0.862705</td>\n",
       "      <td>0.684452</td>\n",
       "    </tr>\n",
       "    <tr>\n",
       "      <th>...</th>\n",
       "      <td>...</td>\n",
       "      <td>...</td>\n",
       "    </tr>\n",
       "    <tr>\n",
       "      <th>106</th>\n",
       "      <td>-2.787379</td>\n",
       "      <td>0.380187</td>\n",
       "    </tr>\n",
       "    <tr>\n",
       "      <th>270</th>\n",
       "      <td>-0.925439</td>\n",
       "      <td>0.473216</td>\n",
       "    </tr>\n",
       "    <tr>\n",
       "      <th>348</th>\n",
       "      <td>-0.115680</td>\n",
       "      <td>0.518598</td>\n",
       "    </tr>\n",
       "    <tr>\n",
       "      <th>435</th>\n",
       "      <td>-1.511106</td>\n",
       "      <td>0.148983</td>\n",
       "    </tr>\n",
       "    <tr>\n",
       "      <th>102</th>\n",
       "      <td>0.107846</td>\n",
       "      <td>0.456522</td>\n",
       "    </tr>\n",
       "  </tbody>\n",
       "</table>\n",
       "<p>349 rows × 2 columns</p>\n",
       "</div>"
      ],
      "text/plain": [
       "     timespent    salary\n",
       "461   1.095958  0.595446\n",
       "356   0.470422  0.629192\n",
       "3    -0.830444  0.891624\n",
       "399  -1.004385  0.626573\n",
       "380   0.862705  0.684452\n",
       "..         ...       ...\n",
       "106  -2.787379  0.380187\n",
       "270  -0.925439  0.473216\n",
       "348  -0.115680  0.518598\n",
       "435  -1.511106  0.148983\n",
       "102   0.107846  0.456522\n",
       "\n",
       "[349 rows x 2 columns]"
      ]
     },
     "execution_count": 155,
     "metadata": {},
     "output_type": "execute_result"
    }
   ],
   "source": [
    "X_train"
   ]
  },
  {
   "cell_type": "code",
   "execution_count": 157,
   "id": "6458ecae",
   "metadata": {},
   "outputs": [
    {
     "data": {
      "text/plain": [
       "<AxesSubplot:xlabel='timespent', ylabel='salary'>"
      ]
     },
     "execution_count": 157,
     "metadata": {},
     "output_type": "execute_result"
    },
    {
     "data": {
      "image/png": "[encoded data removed]",
      "text/plain": [
       "<Figure size 432x288 with 1 Axes>"
      ]
     },
     "metadata": {
      "needs_background": "light"
     },
     "output_type": "display_data"
    }
   ],
   "source": []
  },
  {
   "cell_type": "code",
   "execution_count": 158,
   "id": "401ba45d",
   "metadata": {},
   "outputs": [
    {
     "data": {
      "text/html": [
       "<div>\n",
       "<style scoped>\n",
       "    .dataframe tbody tr th:only-of-type {\n",
       "        vertical-align: middle;\n",
       "    }\n",
       "\n",
       "    .dataframe tbody tr th {\n",
       "        vertical-align: top;\n",
       "    }\n",
       "\n",
       "    .dataframe thead th {\n",
       "        text-align: right;\n",
       "    }\n",
       "</style>\n",
       "<table border=\"1\" class=\"dataframe\">\n",
       "  <thead>\n",
       "    <tr style=\"text-align: right;\">\n",
       "      <th></th>\n",
       "      <th>timespent</th>\n",
       "      <th>salary</th>\n",
       "      <th>Clicked</th>\n",
       "    </tr>\n",
       "  </thead>\n",
       "  <tbody>\n",
       "    <tr>\n",
       "      <th>461</th>\n",
       "      <td>1.095958</td>\n",
       "      <td>0.595446</td>\n",
       "      <td>1</td>\n",
       "    </tr>\n",
       "    <tr>\n",
       "      <th>356</th>\n",
       "      <td>0.470422</td>\n",
       "      <td>0.629192</td>\n",
       "      <td>1</td>\n",
       "    </tr>\n",
       "    <tr>\n",
       "      <th>3</th>\n",
       "      <td>-0.830444</td>\n",
       "      <td>0.891624</td>\n",
       "      <td>1</td>\n",
       "    </tr>\n",
       "    <tr>\n",
       "      <th>399</th>\n",
       "      <td>-1.004385</td>\n",
       "      <td>0.626573</td>\n",
       "      <td>0</td>\n",
       "    </tr>\n",
       "    <tr>\n",
       "      <th>380</th>\n",
       "      <td>0.862705</td>\n",
       "      <td>0.684452</td>\n",
       "      <td>1</td>\n",
       "    </tr>\n",
       "    <tr>\n",
       "      <th>...</th>\n",
       "      <td>...</td>\n",
       "      <td>...</td>\n",
       "      <td>...</td>\n",
       "    </tr>\n",
       "    <tr>\n",
       "      <th>106</th>\n",
       "      <td>-2.787379</td>\n",
       "      <td>0.380187</td>\n",
       "      <td>0</td>\n",
       "    </tr>\n",
       "    <tr>\n",
       "      <th>270</th>\n",
       "      <td>-0.925439</td>\n",
       "      <td>0.473216</td>\n",
       "      <td>0</td>\n",
       "    </tr>\n",
       "    <tr>\n",
       "      <th>348</th>\n",
       "      <td>-0.115680</td>\n",
       "      <td>0.518598</td>\n",
       "      <td>0</td>\n",
       "    </tr>\n",
       "    <tr>\n",
       "      <th>435</th>\n",
       "      <td>-1.511106</td>\n",
       "      <td>0.148983</td>\n",
       "      <td>0</td>\n",
       "    </tr>\n",
       "    <tr>\n",
       "      <th>102</th>\n",
       "      <td>0.107846</td>\n",
       "      <td>0.456522</td>\n",
       "      <td>1</td>\n",
       "    </tr>\n",
       "  </tbody>\n",
       "</table>\n",
       "<p>349 rows × 3 columns</p>\n",
       "</div>"
      ],
      "text/plain": [
       "     timespent    salary  Clicked\n",
       "461   1.095958  0.595446        1\n",
       "356   0.470422  0.629192        1\n",
       "3    -0.830444  0.891624        1\n",
       "399  -1.004385  0.626573        0\n",
       "380   0.862705  0.684452        1\n",
       "..         ...       ...      ...\n",
       "106  -2.787379  0.380187        0\n",
       "270  -0.925439  0.473216        0\n",
       "348  -0.115680  0.518598        0\n",
       "435  -1.511106  0.148983        0\n",
       "102   0.107846  0.456522        1\n",
       "\n",
       "[349 rows x 3 columns]"
      ]
     },
     "execution_count": 158,
     "metadata": {},
     "output_type": "execute_result"
    }
   ],
   "source": [
    "pd.concat([X_train, y_train],axis =1)"
   ]
  },
  {
   "cell_type": "code",
   "execution_count": 159,
   "id": "18b22de3",
   "metadata": {},
   "outputs": [
    {
     "data": {
      "text/plain": [
       "<AxesSubplot:xlabel='timespent', ylabel='salary'>"
      ]
     },
     "execution_count": 159,
     "metadata": {},
     "output_type": "execute_result"
    },
    {
     "data": {
      "image/png": "[encoded data removed]",
      "text/plain": [
       "<Figure size 432x288 with 1 Axes>"
      ]
     },
     "metadata": {
      "needs_background": "light"
     },
     "output_type": "display_data"
    }
   ],
   "source": [
    "sns.scatterplot(data = pd.concat([X_train, y_train],axis =1) ,  x = 'timespent', y = 'salary', hue='Clicked')"
   ]
  },
  {
   "cell_type": "code",
   "execution_count": 161,
   "id": "8fb72dcf",
   "metadata": {},
   "outputs": [],
   "source": [
    "y_pred = pd.DataFrame(y_pred, columns=['Clicked'])"
   ]
  },
  {
   "cell_type": "code",
   "execution_count": 177,
   "id": "157c9dd6",
   "metadata": {},
   "outputs": [],
   "source": [
    "X_test = X_test.reset_index(drop = True)"
   ]
  },
  {
   "cell_type": "code",
   "execution_count": 178,
   "id": "3f45f7d2",
   "metadata": {},
   "outputs": [
    {
     "data": {
      "text/html": [
       "<div>\n",
       "<style scoped>\n",
       "    .dataframe tbody tr th:only-of-type {\n",
       "        vertical-align: middle;\n",
       "    }\n",
       "\n",
       "    .dataframe tbody tr th {\n",
       "        vertical-align: top;\n",
       "    }\n",
       "\n",
       "    .dataframe thead th {\n",
       "        text-align: right;\n",
       "    }\n",
       "</style>\n",
       "<table border=\"1\" class=\"dataframe\">\n",
       "  <thead>\n",
       "    <tr style=\"text-align: right;\">\n",
       "      <th></th>\n",
       "      <th>timespent</th>\n",
       "      <th>salary</th>\n",
       "    </tr>\n",
       "  </thead>\n",
       "  <tbody>\n",
       "    <tr>\n",
       "      <th>0</th>\n",
       "      <td>-0.674238</td>\n",
       "      <td>0.408282</td>\n",
       "    </tr>\n",
       "    <tr>\n",
       "      <th>1</th>\n",
       "      <td>0.277679</td>\n",
       "      <td>0.358337</td>\n",
       "    </tr>\n",
       "    <tr>\n",
       "      <th>2</th>\n",
       "      <td>1.160458</td>\n",
       "      <td>0.382530</td>\n",
       "    </tr>\n",
       "    <tr>\n",
       "      <th>3</th>\n",
       "      <td>-0.415626</td>\n",
       "      <td>0.277994</td>\n",
       "    </tr>\n",
       "    <tr>\n",
       "      <th>4</th>\n",
       "      <td>-0.200007</td>\n",
       "      <td>0.571901</td>\n",
       "    </tr>\n",
       "    <tr>\n",
       "      <th>...</th>\n",
       "      <td>...</td>\n",
       "      <td>...</td>\n",
       "    </tr>\n",
       "    <tr>\n",
       "      <th>145</th>\n",
       "      <td>-0.833301</td>\n",
       "      <td>0.444716</td>\n",
       "    </tr>\n",
       "    <tr>\n",
       "      <th>146</th>\n",
       "      <td>1.462596</td>\n",
       "      <td>0.854726</td>\n",
       "    </tr>\n",
       "    <tr>\n",
       "      <th>147</th>\n",
       "      <td>0.756633</td>\n",
       "      <td>0.763689</td>\n",
       "    </tr>\n",
       "    <tr>\n",
       "      <th>148</th>\n",
       "      <td>-0.019926</td>\n",
       "      <td>0.252392</td>\n",
       "    </tr>\n",
       "    <tr>\n",
       "      <th>149</th>\n",
       "      <td>-0.181001</td>\n",
       "      <td>0.656290</td>\n",
       "    </tr>\n",
       "  </tbody>\n",
       "</table>\n",
       "<p>150 rows × 2 columns</p>\n",
       "</div>"
      ],
      "text/plain": [
       "     timespent    salary\n",
       "0    -0.674238  0.408282\n",
       "1     0.277679  0.358337\n",
       "2     1.160458  0.382530\n",
       "3    -0.415626  0.277994\n",
       "4    -0.200007  0.571901\n",
       "..         ...       ...\n",
       "145  -0.833301  0.444716\n",
       "146   1.462596  0.854726\n",
       "147   0.756633  0.763689\n",
       "148  -0.019926  0.252392\n",
       "149  -0.181001  0.656290\n",
       "\n",
       "[150 rows x 2 columns]"
      ]
     },
     "execution_count": 178,
     "metadata": {},
     "output_type": "execute_result"
    }
   ],
   "source": [
    "X_test"
   ]
  },
  {
   "cell_type": "code",
   "execution_count": 168,
   "id": "2507c555",
   "metadata": {},
   "outputs": [],
   "source": [
    "y_pred = clf.predict(X_test.reset_index(drop = True))"
   ]
  },
  {
   "cell_type": "code",
   "execution_count": 175,
   "id": "cdbf7b15",
   "metadata": {},
   "outputs": [],
   "source": [
    "y_pred_df = pd.DataFrame(y_pred, columns=['Clicked'])"
   ]
  },
  {
   "cell_type": "code",
   "execution_count": 176,
   "id": "b7c4b0eb",
   "metadata": {},
   "outputs": [
    {
     "data": {
      "text/html": [
       "<div>\n",
       "<style scoped>\n",
       "    .dataframe tbody tr th:only-of-type {\n",
       "        vertical-align: middle;\n",
       "    }\n",
       "\n",
       "    .dataframe tbody tr th {\n",
       "        vertical-align: top;\n",
       "    }\n",
       "\n",
       "    .dataframe thead th {\n",
       "        text-align: right;\n",
       "    }\n",
       "</style>\n",
       "<table border=\"1\" class=\"dataframe\">\n",
       "  <thead>\n",
       "    <tr style=\"text-align: right;\">\n",
       "      <th></th>\n",
       "      <th>Clicked</th>\n",
       "    </tr>\n",
       "  </thead>\n",
       "  <tbody>\n",
       "    <tr>\n",
       "      <th>0</th>\n",
       "      <td>0</td>\n",
       "    </tr>\n",
       "    <tr>\n",
       "      <th>1</th>\n",
       "      <td>0</td>\n",
       "    </tr>\n",
       "    <tr>\n",
       "      <th>2</th>\n",
       "      <td>1</td>\n",
       "    </tr>\n",
       "    <tr>\n",
       "      <th>3</th>\n",
       "      <td>0</td>\n",
       "    </tr>\n",
       "    <tr>\n",
       "      <th>4</th>\n",
       "      <td>0</td>\n",
       "    </tr>\n",
       "    <tr>\n",
       "      <th>...</th>\n",
       "      <td>...</td>\n",
       "    </tr>\n",
       "    <tr>\n",
       "      <th>145</th>\n",
       "      <td>0</td>\n",
       "    </tr>\n",
       "    <tr>\n",
       "      <th>146</th>\n",
       "      <td>1</td>\n",
       "    </tr>\n",
       "    <tr>\n",
       "      <th>147</th>\n",
       "      <td>1</td>\n",
       "    </tr>\n",
       "    <tr>\n",
       "      <th>148</th>\n",
       "      <td>0</td>\n",
       "    </tr>\n",
       "    <tr>\n",
       "      <th>149</th>\n",
       "      <td>1</td>\n",
       "    </tr>\n",
       "  </tbody>\n",
       "</table>\n",
       "<p>150 rows × 1 columns</p>\n",
       "</div>"
      ],
      "text/plain": [
       "     Clicked\n",
       "0          0\n",
       "1          0\n",
       "2          1\n",
       "3          0\n",
       "4          0\n",
       "..       ...\n",
       "145        0\n",
       "146        1\n",
       "147        1\n",
       "148        0\n",
       "149        1\n",
       "\n",
       "[150 rows x 1 columns]"
      ]
     },
     "execution_count": 176,
     "metadata": {},
     "output_type": "execute_result"
    }
   ],
   "source": [
    "y_pred_df"
   ]
  },
  {
   "cell_type": "code",
   "execution_count": null,
   "id": "34fe7d61",
   "metadata": {},
   "outputs": [],
   "source": []
  },
  {
   "cell_type": "code",
   "execution_count": 181,
   "id": "11124f25",
   "metadata": {},
   "outputs": [],
   "source": [
    "prediction  = pd.concat([X_test,y_pred_df], axis = 1)"
   ]
  },
  {
   "cell_type": "code",
   "execution_count": 182,
   "id": "8f2ee3f7",
   "metadata": {},
   "outputs": [
    {
     "data": {
      "text/plain": [
       "Index(['timespent', 'salary', 'Clicked'], dtype='object')"
      ]
     },
     "execution_count": 182,
     "metadata": {},
     "output_type": "execute_result"
    }
   ],
   "source": [
    "prediction.columns"
   ]
  },
  {
   "cell_type": "code",
   "execution_count": 183,
   "id": "41adfb6e",
   "metadata": {},
   "outputs": [
    {
     "data": {
      "text/plain": [
       "<AxesSubplot:xlabel='timespent', ylabel='salary'>"
      ]
     },
     "execution_count": 183,
     "metadata": {},
     "output_type": "execute_result"
    },
    {
     "data": {
      "image/png": "[encoded data removed]",
      "text/plain": [
       "<Figure size 432x288 with 1 Axes>"
      ]
     },
     "metadata": {
      "needs_background": "light"
     },
     "output_type": "display_data"
    }
   ],
   "source": [
    "sns.scatterplot(data = prediction , x = 'timespent', y = 'salary', hue = 'Clicked')"
   ]
  },
  {
   "cell_type": "markdown",
   "id": "506d303d",
   "metadata": {},
   "source": [
    "***How to plot a decision surface :***\n",
    "\n",
    "https://hackernoon.com/how-to-plot-a-decision-boundary-for-machine-learning-algorithms-in-python-3o1n3w07"
   ]
  },
  {
   "cell_type": "code",
   "execution_count": 194,
   "id": "fa528560",
   "metadata": {},
   "outputs": [],
   "source": [
    "X_train_array = np.array(X_train)\n",
    "y_train_array = np.array(y_train)"
   ]
  },
  {
   "cell_type": "code",
   "execution_count": 195,
   "id": "60bfc12f",
   "metadata": {},
   "outputs": [],
   "source": [
    "x_min1, x_max1 = X_train_array[:, 0].min()-1 , X_train_array[:, 0].max()+1\n",
    "x_min2, x_max2 = X_train_array[:, 1].min()-1 , X_train_array[:, 1].max()+1"
   ]
  },
  {
   "cell_type": "code",
   "execution_count": 203,
   "id": "edd1769e",
   "metadata": {},
   "outputs": [],
   "source": [
    "#Define the X1 and the X2 scale\n",
    "X1_scale = np.arange(x_min1, x_max1, 0.1)\n",
    "X2_scale = np.arange(x_min2, x_max2, 0.1)"
   ]
  },
  {
   "cell_type": "code",
   "execution_count": 204,
   "id": "664c73cb",
   "metadata": {},
   "outputs": [
    {
     "data": {
      "text/plain": [
       "array([-0.95415492, -0.85415492, -0.75415492, -0.65415492, -0.55415492,\n",
       "       -0.45415492, -0.35415492, -0.25415492, -0.15415492, -0.05415492,\n",
       "        0.04584508,  0.14584508,  0.24584508,  0.34584508,  0.44584508,\n",
       "        0.54584508,  0.64584508,  0.74584508,  0.84584508,  0.94584508,\n",
       "        1.04584508,  1.14584508,  1.24584508,  1.34584508,  1.44584508,\n",
       "        1.54584508,  1.64584508,  1.74584508,  1.84584508,  1.94584508])"
      ]
     },
     "execution_count": 204,
     "metadata": {},
     "output_type": "execute_result"
    }
   ],
   "source": [
    "X2_scale"
   ]
  },
  {
   "cell_type": "code",
   "execution_count": 205,
   "id": "070253ec",
   "metadata": {},
   "outputs": [],
   "source": [
    "# Create the meshgrid\n",
    "\n",
    "XX1 , XX2 = np.meshgrid(X1_scale,X2_scale)"
   ]
  },
  {
   "cell_type": "code",
   "execution_count": 211,
   "id": "f8d74eb8",
   "metadata": {},
   "outputs": [
    {
     "data": {
      "text/plain": [
       "array([[-3.78737926, -3.68737926, -3.58737926, ...,  3.21262074,\n",
       "         3.31262074,  3.41262074],\n",
       "       [-3.78737926, -3.68737926, -3.58737926, ...,  3.21262074,\n",
       "         3.31262074,  3.41262074],\n",
       "       [-3.78737926, -3.68737926, -3.58737926, ...,  3.21262074,\n",
       "         3.31262074,  3.41262074],\n",
       "       ...,\n",
       "       [-3.78737926, -3.68737926, -3.58737926, ...,  3.21262074,\n",
       "         3.31262074,  3.41262074],\n",
       "       [-3.78737926, -3.68737926, -3.58737926, ...,  3.21262074,\n",
       "         3.31262074,  3.41262074],\n",
       "       [-3.78737926, -3.68737926, -3.58737926, ...,  3.21262074,\n",
       "         3.31262074,  3.41262074]])"
      ]
     },
     "execution_count": 211,
     "metadata": {},
     "output_type": "execute_result"
    }
   ],
   "source": [
    "XX1"
   ]
  },
  {
   "cell_type": "code",
   "execution_count": 212,
   "id": "a71a24fd",
   "metadata": {
    "scrolled": true
   },
   "outputs": [
    {
     "data": {
      "text/plain": [
       "array([[-0.95415492, -0.85415492, -0.75415492, ...,  1.74584508,\n",
       "         1.84584508,  1.94584508],\n",
       "       [-0.95415492, -0.85415492, -0.75415492, ...,  1.74584508,\n",
       "         1.84584508,  1.94584508],\n",
       "       [-0.95415492, -0.85415492, -0.75415492, ...,  1.74584508,\n",
       "         1.84584508,  1.94584508],\n",
       "       ...,\n",
       "       [-0.95415492, -0.85415492, -0.75415492, ...,  1.74584508,\n",
       "         1.84584508,  1.94584508],\n",
       "       [-0.95415492, -0.85415492, -0.75415492, ...,  1.74584508,\n",
       "         1.84584508,  1.94584508],\n",
       "       [-0.95415492, -0.85415492, -0.75415492, ...,  1.74584508,\n",
       "         1.84584508,  1.94584508]])"
      ]
     },
     "execution_count": 212,
     "metadata": {},
     "output_type": "execute_result"
    }
   ],
   "source": [
    "XX2.T"
   ]
  },
  {
   "cell_type": "code",
   "execution_count": 216,
   "id": "a043027c",
   "metadata": {},
   "outputs": [],
   "source": [
    "## Flattening the vector"
   ]
  },
  {
   "cell_type": "code",
   "execution_count": 217,
   "id": "136d1964",
   "metadata": {},
   "outputs": [
    {
     "data": {
      "text/plain": [
       "array([-3.78737926, -3.68737926, -3.58737926, ...,  3.21262074,\n",
       "        3.31262074,  3.41262074])"
      ]
     },
     "execution_count": 217,
     "metadata": {},
     "output_type": "execute_result"
    }
   ],
   "source": [
    "XX1.flatten()"
   ]
  },
  {
   "cell_type": "code",
   "execution_count": 218,
   "id": "7041e3f5",
   "metadata": {},
   "outputs": [
    {
     "data": {
      "text/plain": [
       "array([-0.95415492, -0.95415492, -0.95415492, ...,  1.94584508,\n",
       "        1.94584508,  1.94584508])"
      ]
     },
     "execution_count": 218,
     "metadata": {},
     "output_type": "execute_result"
    }
   ],
   "source": [
    "XX2.flatten()"
   ]
  },
  {
   "cell_type": "code",
   "execution_count": 222,
   "id": "35b6c65b",
   "metadata": {},
   "outputs": [],
   "source": [
    "X1_vector = XX1.ravel()\n",
    "X2_vector = XX2.ravel()"
   ]
  },
  {
   "cell_type": "code",
   "execution_count": 226,
   "id": "a8679308",
   "metadata": {},
   "outputs": [],
   "source": [
    "X1_vector = X1_vector.reshape(len(X1_vector), 1)\n",
    "X2_vector = X2_vector.reshape(len(X2_vector), 1)"
   ]
  },
  {
   "cell_type": "code",
   "execution_count": 227,
   "id": "3827105f",
   "metadata": {},
   "outputs": [],
   "source": [
    "## Hstacking to create the X_train"
   ]
  },
  {
   "cell_type": "code",
   "execution_count": 229,
   "id": "6d8690b9",
   "metadata": {},
   "outputs": [],
   "source": [
    "X_grid = np.hstack((X1_vector,X2_vector))"
   ]
  },
  {
   "cell_type": "code",
   "execution_count": 230,
   "id": "42bed173",
   "metadata": {},
   "outputs": [
    {
     "data": {
      "text/plain": [
       "array([[-3.78737926, -0.95415492],\n",
       "       [-3.68737926, -0.95415492],\n",
       "       [-3.58737926, -0.95415492],\n",
       "       ...,\n",
       "       [ 3.21262074,  1.94584508],\n",
       "       [ 3.31262074,  1.94584508],\n",
       "       [ 3.41262074,  1.94584508]])"
      ]
     },
     "execution_count": 230,
     "metadata": {},
     "output_type": "execute_result"
    }
   ],
   "source": [
    "X_grid"
   ]
  },
  {
   "cell_type": "code",
   "execution_count": 232,
   "id": "d49df5f4",
   "metadata": {},
   "outputs": [
    {
     "name": "stderr",
     "output_type": "stream",
     "text": [
      "C:\\ProgramData\\Anaconda3\\lib\\site-packages\\sklearn\\base.py:450: UserWarning: X does not have valid feature names, but LogisticRegression was fitted with feature names\n",
      "  warnings.warn(\n"
     ]
    }
   ],
   "source": [
    "y_pred_grid = clf.predict(X_grid)"
   ]
  },
  {
   "cell_type": "code",
   "execution_count": 233,
   "id": "c2d2f6e3",
   "metadata": {},
   "outputs": [
    {
     "data": {
      "text/plain": [
       "(2190,)"
      ]
     },
     "execution_count": 233,
     "metadata": {},
     "output_type": "execute_result"
    }
   ],
   "source": [
    "y_pred_grid.shape"
   ]
  },
  {
   "cell_type": "code",
   "execution_count": 239,
   "id": "812a1e73",
   "metadata": {},
   "outputs": [],
   "source": [
    "YY = y_pred_grid.reshape(XX1.shape)"
   ]
  },
  {
   "cell_type": "code",
   "execution_count": 242,
   "id": "ba7b6827",
   "metadata": {},
   "outputs": [
    {
     "data": {
      "text/plain": [
       "<AxesSubplot:xlabel='timespent', ylabel='salary'>"
      ]
     },
     "execution_count": 242,
     "metadata": {},
     "output_type": "execute_result"
    },
    {
     "data": {
      "image/png": "[encoded data removed]",
      "text/plain": [
       "<Figure size 432x288 with 1 Axes>"
      ]
     },
     "metadata": {
      "needs_background": "light"
     },
     "output_type": "display_data"
    }
   ],
   "source": [
    "plt.contourf(XX1, XX2,YY,cmap = 'Paired')\n",
    "sns.scatterplot(data = prediction , x = 'timespent', y = 'salary', hue = 'Clicked')"
   ]
  },
  {
   "cell_type": "code",
   "execution_count": null,
   "id": "a210e17b",
   "metadata": {},
   "outputs": [],
   "source": []
  }
 ],
 "metadata": {
  "kernelspec": {
   "display_name": "Python 3 (ipykernel)",
   "language": "python",
   "name": "python3"
  },
  "language_info": {
   "codemirror_mode": {
    "name": "ipython",
    "version": 3
   },
   "file_extension": ".py",
   "mimetype": "text/x-python",
   "name": "python",
   "nbconvert_exporter": "python",
   "pygments_lexer": "ipython3",
   "version": "3.9.12"
  }
 },
 "nbformat": 4,
 "nbformat_minor": 5
}
